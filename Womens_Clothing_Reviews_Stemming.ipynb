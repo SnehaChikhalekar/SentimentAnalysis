{
 "cells": [
  {
   "cell_type": "markdown",
   "metadata": {},
   "source": [
    "# Womens Clothing Reviews Analysis\n",
    "\n",
    "Context\n",
    "Welcome. This is a Women’s Clothing E-Commerce dataset revolving around the reviews written by customers. Its nine supportive features offer a great environment to parse out the text through its multiple dimensions. Because this is real commercial data, it has been anonymized, and references to the company in the review text and body have been replaced with “retailer”.\n",
    "\n",
    "Content\n",
    "This dataset includes 23486 rows and 10 feature variables. Each row corresponds to a customer review, and includes the variables:\n",
    "\n",
    "- Clothing ID: Integer Categorical variable that refers to the specific piece being reviewed.\n",
    "- Age: Positive Integer variable of the reviewers age.\n",
    "- Title: String variable for the title of the review.\n",
    "- Review Text: String variable for the review body.\n",
    "- Rating: Positive Ordinal Integer variable for the product score granted by the customer from 1 Worst, to 5 Best.\n",
    "- Recommended IND: Binary variable stating where the customer recommends the product where 1 is recommended, 0 is not - recommended.\n",
    "- Positive Feedback Count: Positive Integer documenting the number of other customers who found this review positive.\n",
    "- Division Name: Categorical name of the product high level division.\n",
    "- Department Name: Categorical name of the product department name.\n",
    "- Class Name: Categorical name of the product class name."
   ]
  },
  {
   "cell_type": "code",
   "execution_count": 1,
   "metadata": {},
   "outputs": [],
   "source": [
    "import pandas as pd\n",
    "import numpy as np\n",
    "import matplotlib.pyplot as plt\n",
    "import seaborn as sns\n",
    "import nltk\n",
    "import re\n",
    "pd.set_option('display.max_colwidth', -1)\n",
    "%matplotlib inline"
   ]
  },
  {
   "cell_type": "code",
   "execution_count": 2,
   "metadata": {},
   "outputs": [],
   "source": [
    "df = pd.read_csv(\"Womens Clothing E-Commerce Reviews.csv\")"
   ]
  },
  {
   "cell_type": "code",
   "execution_count": 3,
   "metadata": {},
   "outputs": [
    {
     "name": "stdout",
     "output_type": "stream",
     "text": [
      "Unnamed: 0                 23486\n",
      "Clothing ID                1206 \n",
      "Age                        77   \n",
      "Title                      13993\n",
      "Review Text                22634\n",
      "Rating                     5    \n",
      "Recommended IND            2    \n",
      "Positive Feedback Count    82   \n",
      "Division Name              3    \n",
      "Department Name            6    \n",
      "Class Name                 20   \n",
      "dtype: int64\n"
     ]
    },
    {
     "data": {
      "text/html": [
       "<div>\n",
       "<style scoped>\n",
       "    .dataframe tbody tr th:only-of-type {\n",
       "        vertical-align: middle;\n",
       "    }\n",
       "\n",
       "    .dataframe tbody tr th {\n",
       "        vertical-align: top;\n",
       "    }\n",
       "\n",
       "    .dataframe thead th {\n",
       "        text-align: right;\n",
       "    }\n",
       "</style>\n",
       "<table border=\"1\" class=\"dataframe\">\n",
       "  <thead>\n",
       "    <tr style=\"text-align: right;\">\n",
       "      <th></th>\n",
       "      <th>Unnamed: 0</th>\n",
       "      <th>Clothing ID</th>\n",
       "      <th>Age</th>\n",
       "      <th>Title</th>\n",
       "      <th>Review Text</th>\n",
       "      <th>Rating</th>\n",
       "      <th>Recommended IND</th>\n",
       "      <th>Positive Feedback Count</th>\n",
       "      <th>Division Name</th>\n",
       "      <th>Department Name</th>\n",
       "      <th>Class Name</th>\n",
       "    </tr>\n",
       "  </thead>\n",
       "  <tbody>\n",
       "    <tr>\n",
       "      <td>0</td>\n",
       "      <td>0</td>\n",
       "      <td>767</td>\n",
       "      <td>33</td>\n",
       "      <td>NaN</td>\n",
       "      <td>Absolutely wonderful - silky and sexy and comfortable</td>\n",
       "      <td>4</td>\n",
       "      <td>1</td>\n",
       "      <td>0</td>\n",
       "      <td>Initmates</td>\n",
       "      <td>Intimate</td>\n",
       "      <td>Intimates</td>\n",
       "    </tr>\n",
       "    <tr>\n",
       "      <td>1</td>\n",
       "      <td>1</td>\n",
       "      <td>1080</td>\n",
       "      <td>34</td>\n",
       "      <td>NaN</td>\n",
       "      <td>Love this dress!  it's sooo pretty.  i happened to find it in a store, and i'm glad i did bc i never would have ordered it online bc it's petite.  i bought a petite and am 5'8\".  i love the length on me- hits just a little below the knee.  would definitely be a true midi on someone who is truly petite.</td>\n",
       "      <td>5</td>\n",
       "      <td>1</td>\n",
       "      <td>4</td>\n",
       "      <td>General</td>\n",
       "      <td>Dresses</td>\n",
       "      <td>Dresses</td>\n",
       "    </tr>\n",
       "    <tr>\n",
       "      <td>2</td>\n",
       "      <td>2</td>\n",
       "      <td>1077</td>\n",
       "      <td>60</td>\n",
       "      <td>Some major design flaws</td>\n",
       "      <td>I had such high hopes for this dress and really wanted it to work for me. i initially ordered the petite small (my usual size) but i found this to be outrageously small. so small in fact that i could not zip it up! i reordered it in petite medium, which was just ok. overall, the top half was comfortable and fit nicely, but the bottom half had a very tight under layer and several somewhat cheap (net) over layers. imo, a major design flaw was the net over layer sewn directly into the zipper - it c</td>\n",
       "      <td>3</td>\n",
       "      <td>0</td>\n",
       "      <td>0</td>\n",
       "      <td>General</td>\n",
       "      <td>Dresses</td>\n",
       "      <td>Dresses</td>\n",
       "    </tr>\n",
       "  </tbody>\n",
       "</table>\n",
       "</div>"
      ],
      "text/plain": [
       "   Unnamed: 0  Clothing ID  Age                    Title  \\\n",
       "0  0           767          33   NaN                       \n",
       "1  1           1080         34   NaN                       \n",
       "2  2           1077         60   Some major design flaws   \n",
       "\n",
       "                                                                                                                                                                                                                                                                                                                                                                                                                                                                                                            Review Text  \\\n",
       "0  Absolutely wonderful - silky and sexy and comfortable                                                                                                                                                                                                                                                                                                                                                                                                                                                                  \n",
       "1  Love this dress!  it's sooo pretty.  i happened to find it in a store, and i'm glad i did bc i never would have ordered it online bc it's petite.  i bought a petite and am 5'8\".  i love the length on me- hits just a little below the knee.  would definitely be a true midi on someone who is truly petite.                                                                                                                                                                                                        \n",
       "2  I had such high hopes for this dress and really wanted it to work for me. i initially ordered the petite small (my usual size) but i found this to be outrageously small. so small in fact that i could not zip it up! i reordered it in petite medium, which was just ok. overall, the top half was comfortable and fit nicely, but the bottom half had a very tight under layer and several somewhat cheap (net) over layers. imo, a major design flaw was the net over layer sewn directly into the zipper - it c   \n",
       "\n",
       "   Rating  Recommended IND  Positive Feedback Count Division Name  \\\n",
       "0  4       1                0                        Initmates      \n",
       "1  5       1                4                        General        \n",
       "2  3       0                0                        General        \n",
       "\n",
       "  Department Name Class Name  \n",
       "0  Intimate        Intimates  \n",
       "1  Dresses         Dresses    \n",
       "2  Dresses         Dresses    "
      ]
     },
     "execution_count": 3,
     "metadata": {},
     "output_type": "execute_result"
    }
   ],
   "source": [
    "print(df.nunique())\n",
    "df.head(3)"
   ]
  },
  {
   "cell_type": "code",
   "execution_count": 4,
   "metadata": {},
   "outputs": [
    {
     "data": {
      "text/plain": [
       "nan"
      ]
     },
     "execution_count": 4,
     "metadata": {},
     "output_type": "execute_result"
    }
   ],
   "source": [
    "df['Review Text'][92]"
   ]
  },
  {
   "cell_type": "code",
   "execution_count": 5,
   "metadata": {},
   "outputs": [
    {
     "data": {
      "text/plain": [
       "Unnamed: 0                 int64 \n",
       "Clothing ID                int64 \n",
       "Age                        int64 \n",
       "Title                      object\n",
       "Review Text                object\n",
       "Rating                     int64 \n",
       "Recommended IND            int64 \n",
       "Positive Feedback Count    int64 \n",
       "Division Name              object\n",
       "Department Name            object\n",
       "Class Name                 object\n",
       "dtype: object"
      ]
     },
     "execution_count": 5,
     "metadata": {},
     "output_type": "execute_result"
    }
   ],
   "source": [
    "df.dtypes"
   ]
  },
  {
   "cell_type": "markdown",
   "metadata": {},
   "source": [
    "# Sentimeter\n",
    "\n",
    "Either we can look for Recommended IND or for Positive Feedback Count. A person will recommend an item iff she's pleased with it. Hence,  we can say that if a woman has recommended a product, her review must be positive. In short 1 for Recommended IND means the girl liked it i.e. positive sentiment and 0 means she didn't like it which means it's a negative sentiment. Let's build a simple classifier based on this assumption.\n",
    "\n",
    "A viewer of the comment can give a positive feedback or a like which can also be used as a sentiment meter but we can use it later. Let's use only Recommended IND now.\n",
    "\n",
    "We can also use the Ratings column and say that if the rating is less than 2, then the buyer held a bad sentiment about the product else, she liked the product and her review is positive."
   ]
  },
  {
   "cell_type": "markdown",
   "metadata": {},
   "source": [
    "# Analyzing the text\n",
    "\n",
    "Let's perform basic preprocessing on the text."
   ]
  },
  {
   "cell_type": "markdown",
   "metadata": {},
   "source": [
    "## Normalize and Tokenize"
   ]
  },
  {
   "cell_type": "code",
   "execution_count": 6,
   "metadata": {},
   "outputs": [],
   "source": [
    "reviews = list(df['Review Text'].str.lower())"
   ]
  },
  {
   "cell_type": "code",
   "execution_count": 7,
   "metadata": {},
   "outputs": [
    {
     "data": {
      "text/plain": [
       "['absolutely wonderful - silky and sexy and comfortable',\n",
       " 'love this dress!  it\\'s sooo pretty.  i happened to find it in a store, and i\\'m glad i did bc i never would have ordered it online bc it\\'s petite.  i bought a petite and am 5\\'8\".  i love the length on me- hits just a little below the knee.  would definitely be a true midi on someone who is truly petite.']"
      ]
     },
     "execution_count": 7,
     "metadata": {},
     "output_type": "execute_result"
    }
   ],
   "source": [
    "reviews[:2]"
   ]
  },
  {
   "cell_type": "code",
   "execution_count": 8,
   "metadata": {},
   "outputs": [],
   "source": [
    "from nltk.tokenize import word_tokenize\n",
    "tokenized_reviews = []\n",
    "for i in reviews:\n",
    "    try:\n",
    "        x = re.sub(r'[\\.\\-,\\(\\)\\!\\[\\]\\{\\}\\:\\;\\d\\'\\\"\\@\\#\\=\\%\\\\]','',i)\n",
    "        tokenized_reviews.append(word_tokenize(x))\n",
    "    except:\n",
    "        tokenized_reviews.append(['error'])"
   ]
  },
  {
   "cell_type": "code",
   "execution_count": 9,
   "metadata": {
    "scrolled": false
   },
   "outputs": [
    {
     "name": "stdout",
     "output_type": "stream",
     "text": [
      "['error']\n"
     ]
    }
   ],
   "source": [
    "print(tokenized_reviews[92])"
   ]
  },
  {
   "cell_type": "markdown",
   "metadata": {},
   "source": [
    "## Stemming"
   ]
  },
  {
   "cell_type": "code",
   "execution_count": 10,
   "metadata": {},
   "outputs": [],
   "source": [
    "from nltk.stem import PorterStemmer\n",
    "ps = PorterStemmer()\n",
    "\n",
    "stemmed_tokens = []\n",
    "for i in tokenized_reviews[:1000]:\n",
    "    doc = []\n",
    "    for j in i:\n",
    "        doc.append(ps.stem(j))\n",
    "    stemmed_tokens.append(doc)"
   ]
  },
  {
   "cell_type": "markdown",
   "metadata": {},
   "source": [
    "## Stopwords Removal\n",
    "\n",
    "Remove the stopwords based on domain and general stopwords as well."
   ]
  },
  {
   "cell_type": "code",
   "execution_count": 11,
   "metadata": {},
   "outputs": [],
   "source": [
    "from nltk.corpus import stopwords\n",
    "from nltk.probability import FreqDist"
   ]
  },
  {
   "cell_type": "code",
   "execution_count": 12,
   "metadata": {},
   "outputs": [],
   "source": [
    "SW = set(stopwords.words('english'))"
   ]
  },
  {
   "cell_type": "code",
   "execution_count": 13,
   "metadata": {},
   "outputs": [
    {
     "name": "stdout",
     "output_type": "stream",
     "text": [
      "[['absolut', 'wonder', 'silki', 'and', 'sexi', 'and', 'comfort'], ['love', 'thi', 'dress', 'it', 'sooo', 'pretti', 'i', 'happen', 'to', 'find', 'it', 'in', 'a', 'store', 'and', 'im', 'glad', 'i', 'did', 'bc', 'i', 'never', 'would', 'have', 'order', 'it', 'onlin', 'bc', 'it', 'petit', 'i', 'bought', 'a', 'petit', 'and', 'am', 'i', 'love', 'the', 'length', 'on', 'me', 'hit', 'just', 'a', 'littl', 'below', 'the', 'knee', 'would', 'definit', 'be', 'a', 'true', 'midi', 'on', 'someon', 'who', 'is', 'truli', 'petit'], ['i', 'had', 'such', 'high', 'hope', 'for', 'thi', 'dress', 'and', 'realli', 'want', 'it', 'to', 'work', 'for', 'me', 'i', 'initi', 'order', 'the', 'petit', 'small', 'my', 'usual', 'size', 'but', 'i', 'found', 'thi', 'to', 'be', 'outrag', 'small', 'so', 'small', 'in', 'fact', 'that', 'i', 'could', 'not', 'zip', 'it', 'up', 'i', 'reorder', 'it', 'in', 'petit', 'medium', 'which', 'wa', 'just', 'ok', 'overal', 'the', 'top', 'half', 'wa', 'comfort', 'and', 'fit', 'nice', 'but', 'the', 'bottom', 'half', 'had', 'a', 'veri', 'tight', 'under', 'layer', 'and', 'sever', 'somewhat', 'cheap', 'net', 'over', 'layer', 'imo', 'a', 'major', 'design', 'flaw', 'wa', 'the', 'net', 'over', 'layer', 'sewn', 'directli', 'into', 'the', 'zipper', 'it', 'c'], ['i', 'love', 'love', 'love', 'thi', 'jumpsuit', 'it', 'fun', 'flirti', 'and', 'fabul', 'everi', 'time', 'i', 'wear', 'it', 'i', 'get', 'noth', 'but', 'great', 'compliment'], ['thi', 'shirt', 'is', 'veri', 'flatter', 'to', 'all', 'due', 'to', 'the', 'adjust', 'front', 'tie', 'it', 'is', 'the', 'perfect', 'length', 'to', 'wear', 'with', 'leg', 'and', 'it', 'is', 'sleeveless', 'so', 'it', 'pair', 'well', 'with', 'ani', 'cardigan', 'love', 'thi', 'shirt']]\n"
     ]
    }
   ],
   "source": [
    "print(stemmed_tokens[:5])"
   ]
  },
  {
   "cell_type": "code",
   "execution_count": 14,
   "metadata": {},
   "outputs": [],
   "source": [
    "x = []\n",
    "for i in stemmed_tokens:\n",
    "    for j in i:\n",
    "        if not(j in SW):\n",
    "            x.append(j)"
   ]
  },
  {
   "cell_type": "code",
   "execution_count": 15,
   "metadata": {},
   "outputs": [],
   "source": [
    "fdist = FreqDist(word_tokenize(' '.join(x)))"
   ]
  },
  {
   "cell_type": "code",
   "execution_count": 16,
   "metadata": {},
   "outputs": [],
   "source": [
    "count = 0\n",
    "for i in fdist.elements():\n",
    "    count = count + 1"
   ]
  },
  {
   "cell_type": "code",
   "execution_count": 17,
   "metadata": {},
   "outputs": [
    {
     "data": {
      "text/plain": [
       "30248"
      ]
     },
     "execution_count": 17,
     "metadata": {},
     "output_type": "execute_result"
    }
   ],
   "source": [
    "count"
   ]
  },
  {
   "cell_type": "code",
   "execution_count": 18,
   "metadata": {},
   "outputs": [
    {
     "data": {
      "image/png": "[encoded data removed]",
      "text/plain": [
       "<Figure size 1080x216 with 1 Axes>"
      ]
     },
     "metadata": {
      "needs_background": "light"
     },
     "output_type": "display_data"
    }
   ],
   "source": [
    "from matplotlib import rcParams\n",
    "rcParams['figure.figsize'] = 15,3\n",
    "fdist.plot(50)\n",
    "plt.show()"
   ]
  },
  {
   "cell_type": "code",
   "execution_count": 19,
   "metadata": {},
   "outputs": [],
   "source": [
    "sw_new = ['thi','wa', 'dress', 'love', 'fit'] #, 'like', 'wear', 'great','im', 'would', '']"
   ]
  },
  {
   "cell_type": "code",
   "execution_count": 20,
   "metadata": {},
   "outputs": [],
   "source": [
    "SW = SW.union(set(sw_new))"
   ]
  },
  {
   "cell_type": "code",
   "execution_count": 21,
   "metadata": {},
   "outputs": [],
   "source": [
    "final_reviews = []\n",
    "for i in stemmed_tokens:\n",
    "    rev = []\n",
    "    for j in i:\n",
    "        if not(j in SW):\n",
    "            rev.append(j)\n",
    "    final_reviews.append(' '.join(rev))"
   ]
  },
  {
   "cell_type": "code",
   "execution_count": 22,
   "metadata": {},
   "outputs": [],
   "source": [
    "data = pd.DataFrame({'Reviews':final_reviews, 'Target':df['Recommended IND'][:1000]})"
   ]
  },
  {
   "cell_type": "code",
   "execution_count": 23,
   "metadata": {},
   "outputs": [
    {
     "data": {
      "text/html": [
       "<div>\n",
       "<style scoped>\n",
       "    .dataframe tbody tr th:only-of-type {\n",
       "        vertical-align: middle;\n",
       "    }\n",
       "\n",
       "    .dataframe tbody tr th {\n",
       "        vertical-align: top;\n",
       "    }\n",
       "\n",
       "    .dataframe thead th {\n",
       "        text-align: right;\n",
       "    }\n",
       "</style>\n",
       "<table border=\"1\" class=\"dataframe\">\n",
       "  <thead>\n",
       "    <tr style=\"text-align: right;\">\n",
       "      <th></th>\n",
       "      <th>Reviews</th>\n",
       "      <th>Target</th>\n",
       "    </tr>\n",
       "  </thead>\n",
       "  <tbody>\n",
       "    <tr>\n",
       "      <td>0</td>\n",
       "      <td>absolut wonder silki sexi comfort</td>\n",
       "      <td>1</td>\n",
       "    </tr>\n",
       "    <tr>\n",
       "      <td>1</td>\n",
       "      <td>sooo pretti happen find store im glad bc never would order onlin bc petit bought petit length hit littl knee would definit true midi someon truli petit</td>\n",
       "      <td>1</td>\n",
       "    </tr>\n",
       "    <tr>\n",
       "      <td>2</td>\n",
       "      <td>high hope realli want work initi order petit small usual size found outrag small small fact could zip reorder petit medium ok overal top half comfort nice bottom half veri tight layer sever somewhat cheap net layer imo major design flaw net layer sewn directli zipper c</td>\n",
       "      <td>0</td>\n",
       "    </tr>\n",
       "    <tr>\n",
       "      <td>3</td>\n",
       "      <td>jumpsuit fun flirti fabul everi time wear get noth great compliment</td>\n",
       "      <td>1</td>\n",
       "    </tr>\n",
       "    <tr>\n",
       "      <td>4</td>\n",
       "      <td>shirt veri flatter due adjust front tie perfect length wear leg sleeveless pair well ani cardigan shirt</td>\n",
       "      <td>1</td>\n",
       "    </tr>\n",
       "  </tbody>\n",
       "</table>\n",
       "</div>"
      ],
      "text/plain": [
       "                                                                                                                                                                                                                                                                         Reviews  \\\n",
       "0  absolut wonder silki sexi comfort                                                                                                                                                                                                                                               \n",
       "1  sooo pretti happen find store im glad bc never would order onlin bc petit bought petit length hit littl knee would definit true midi someon truli petit                                                                                                                         \n",
       "2  high hope realli want work initi order petit small usual size found outrag small small fact could zip reorder petit medium ok overal top half comfort nice bottom half veri tight layer sever somewhat cheap net layer imo major design flaw net layer sewn directli zipper c   \n",
       "3  jumpsuit fun flirti fabul everi time wear get noth great compliment                                                                                                                                                                                                             \n",
       "4  shirt veri flatter due adjust front tie perfect length wear leg sleeveless pair well ani cardigan shirt                                                                                                                                                                         \n",
       "\n",
       "   Target  \n",
       "0  1       \n",
       "1  1       \n",
       "2  0       \n",
       "3  1       \n",
       "4  1       "
      ]
     },
     "execution_count": 23,
     "metadata": {},
     "output_type": "execute_result"
    }
   ],
   "source": [
    "data.head()"
   ]
  },
  {
   "cell_type": "markdown",
   "metadata": {},
   "source": [
    "# Train-Test Split"
   ]
  },
  {
   "cell_type": "code",
   "execution_count": 25,
   "metadata": {},
   "outputs": [],
   "source": [
    "from sklearn.model_selection import train_test_split\n",
    "X_train, X_test, y_train, y_test = train_test_split(data.Reviews, data.Target, stratify = data.Target, test_size = 0.3, random_state = 0)"
   ]
  },
  {
   "cell_type": "code",
   "execution_count": 26,
   "metadata": {},
   "outputs": [],
   "source": [
    "from sklearn.feature_extraction.text import TfidfVectorizer\n",
    "tfidfVec = TfidfVectorizer().fit(X_train)"
   ]
  },
  {
   "cell_type": "code",
   "execution_count": 27,
   "metadata": {},
   "outputs": [],
   "source": [
    "X_train = tfidfVec.transform(X_train)\n",
    "X_test = tfidfVec.transform(X_test)"
   ]
  },
  {
   "cell_type": "markdown",
   "metadata": {},
   "source": [
    "# Model Building"
   ]
  },
  {
   "cell_type": "markdown",
   "metadata": {},
   "source": [
    "## Multinomial Naive-Bayes"
   ]
  },
  {
   "cell_type": "code",
   "execution_count": 28,
   "metadata": {},
   "outputs": [
    {
     "data": {
      "text/plain": [
       "1    818\n",
       "0    182\n",
       "Name: Target, dtype: int64"
      ]
     },
     "execution_count": 28,
     "metadata": {},
     "output_type": "execute_result"
    }
   ],
   "source": [
    "data.Target.value_counts()"
   ]
  },
  {
   "cell_type": "code",
   "execution_count": 29,
   "metadata": {},
   "outputs": [
    {
     "name": "stdout",
     "output_type": "stream",
     "text": [
      "Statistics for classification are as follows: \n",
      "\n",
      "              precision    recall  f1-score   support\n",
      "\n",
      "           0       0.00      0.00      0.00        55\n",
      "           1       0.82      1.00      0.90       245\n",
      "\n",
      "    accuracy                           0.82       300\n",
      "   macro avg       0.41      0.50      0.45       300\n",
      "weighted avg       0.67      0.82      0.73       300\n",
      "\n",
      "\n",
      "ROC AUC Score 0.5\n"
     ]
    },
    {
     "name": "stderr",
     "output_type": "stream",
     "text": [
      "C:\\Users\\nayak\\AppData\\Roaming\\Python\\Python36\\site-packages\\sklearn\\metrics\\classification.py:1437: UndefinedMetricWarning: Precision and F-score are ill-defined and being set to 0.0 in labels with no predicted samples.\n",
      "  'precision', 'predicted', average, warn_for)\n"
     ]
    }
   ],
   "source": [
    "from sklearn.naive_bayes import MultinomialNB\n",
    "\n",
    "from sklearn.metrics import roc_auc_score, classification_report\n",
    "MNB = MultinomialNB().fit(X_train, y_train)\n",
    "y_pred = MNB.predict(X_test)\n",
    "\n",
    "print(\"Statistics for classification are as follows: \\n\\n{}\\n\".format(classification_report(y_test, y_pred)))\n",
    "print(\"ROC AUC Score {}\".format(roc_auc_score(y_test, y_pred)))"
   ]
  },
  {
   "cell_type": "markdown",
   "metadata": {},
   "source": [
    "## Logistic Regression"
   ]
  },
  {
   "cell_type": "code",
   "execution_count": 30,
   "metadata": {},
   "outputs": [
    {
     "name": "stderr",
     "output_type": "stream",
     "text": [
      "C:\\Users\\nayak\\AppData\\Roaming\\Python\\Python36\\site-packages\\sklearn\\linear_model\\logistic.py:432: FutureWarning: Default solver will be changed to 'lbfgs' in 0.22. Specify a solver to silence this warning.\n",
      "  FutureWarning)\n"
     ]
    }
   ],
   "source": [
    "from sklearn.linear_model import LogisticRegression\n",
    "from sklearn.metrics import roc_curve\n",
    "\n",
    "clfr = LogisticRegression(C = 100)\n",
    "clfr.fit(X_train, y_train)\n",
    "\n",
    "y_pred_proba = clfr.predict_proba(X_test)\n",
    "y_prob = []\n",
    "for i in y_pred_proba:\n",
    "    y_prob.append(i[1])\n",
    "\n",
    "fpr, tpr, thr = roc_curve(y_test, y_prob, pos_label = 1)"
   ]
  },
  {
   "cell_type": "code",
   "execution_count": 31,
   "metadata": {},
   "outputs": [
    {
     "data": {
      "text/html": [
       "<div>\n",
       "<style scoped>\n",
       "    .dataframe tbody tr th:only-of-type {\n",
       "        vertical-align: middle;\n",
       "    }\n",
       "\n",
       "    .dataframe tbody tr th {\n",
       "        vertical-align: top;\n",
       "    }\n",
       "\n",
       "    .dataframe thead th {\n",
       "        text-align: right;\n",
       "    }\n",
       "</style>\n",
       "<table border=\"1\" class=\"dataframe\">\n",
       "  <thead>\n",
       "    <tr style=\"text-align: right;\">\n",
       "      <th></th>\n",
       "      <th>FPR</th>\n",
       "      <th>TPR</th>\n",
       "      <th>Threshold</th>\n",
       "      <th>F1</th>\n",
       "    </tr>\n",
       "  </thead>\n",
       "  <tbody>\n",
       "    <tr>\n",
       "      <td>0</td>\n",
       "      <td>0.000000</td>\n",
       "      <td>0.000000</td>\n",
       "      <td>1.999952</td>\n",
       "      <td>0.000000</td>\n",
       "    </tr>\n",
       "    <tr>\n",
       "      <td>1</td>\n",
       "      <td>0.000000</td>\n",
       "      <td>0.004082</td>\n",
       "      <td>0.999952</td>\n",
       "      <td>0.008130</td>\n",
       "    </tr>\n",
       "    <tr>\n",
       "      <td>2</td>\n",
       "      <td>0.000000</td>\n",
       "      <td>0.179592</td>\n",
       "      <td>0.998068</td>\n",
       "      <td>0.304498</td>\n",
       "    </tr>\n",
       "    <tr>\n",
       "      <td>3</td>\n",
       "      <td>0.018182</td>\n",
       "      <td>0.179592</td>\n",
       "      <td>0.998033</td>\n",
       "      <td>0.303642</td>\n",
       "    </tr>\n",
       "    <tr>\n",
       "      <td>4</td>\n",
       "      <td>0.018182</td>\n",
       "      <td>0.363265</td>\n",
       "      <td>0.992917</td>\n",
       "      <td>0.530317</td>\n",
       "    </tr>\n",
       "  </tbody>\n",
       "</table>\n",
       "</div>"
      ],
      "text/plain": [
       "        FPR       TPR  Threshold        F1\n",
       "0  0.000000  0.000000  1.999952   0.000000\n",
       "1  0.000000  0.004082  0.999952   0.008130\n",
       "2  0.000000  0.179592  0.998068   0.304498\n",
       "3  0.018182  0.179592  0.998033   0.303642\n",
       "4  0.018182  0.363265  0.992917   0.530317"
      ]
     },
     "execution_count": 31,
     "metadata": {},
     "output_type": "execute_result"
    }
   ],
   "source": [
    "ROC_AUC_DF = pd.DataFrame({'FPR':fpr, 'TPR':tpr, 'Threshold':thr})\n",
    "ROC_AUC_DF['F1'] = 2 * (1 - ROC_AUC_DF.FPR) * ROC_AUC_DF.TPR / (ROC_AUC_DF.TPR + 1 - ROC_AUC_DF.FPR)\n",
    "ROC_AUC_DF.head()"
   ]
  },
  {
   "cell_type": "code",
   "execution_count": 32,
   "metadata": {},
   "outputs": [
    {
     "data": {
      "text/html": [
       "<div>\n",
       "<style scoped>\n",
       "    .dataframe tbody tr th:only-of-type {\n",
       "        vertical-align: middle;\n",
       "    }\n",
       "\n",
       "    .dataframe tbody tr th {\n",
       "        vertical-align: top;\n",
       "    }\n",
       "\n",
       "    .dataframe thead th {\n",
       "        text-align: right;\n",
       "    }\n",
       "</style>\n",
       "<table border=\"1\" class=\"dataframe\">\n",
       "  <thead>\n",
       "    <tr style=\"text-align: right;\">\n",
       "      <th></th>\n",
       "      <th>FPR</th>\n",
       "      <th>TPR</th>\n",
       "      <th>Threshold</th>\n",
       "      <th>F1</th>\n",
       "    </tr>\n",
       "  </thead>\n",
       "  <tbody>\n",
       "    <tr>\n",
       "      <td>16</td>\n",
       "      <td>0.181818</td>\n",
       "      <td>0.795918</td>\n",
       "      <td>0.908976</td>\n",
       "      <td>0.806897</td>\n",
       "    </tr>\n",
       "  </tbody>\n",
       "</table>\n",
       "</div>"
      ],
      "text/plain": [
       "         FPR       TPR  Threshold        F1\n",
       "16  0.181818  0.795918  0.908976   0.806897"
      ]
     },
     "execution_count": 32,
     "metadata": {},
     "output_type": "execute_result"
    }
   ],
   "source": [
    "ROC_AUC_DF[ROC_AUC_DF.F1 == ROC_AUC_DF.F1.max()]"
   ]
  },
  {
   "cell_type": "code",
   "execution_count": 33,
   "metadata": {},
   "outputs": [
    {
     "data": {
      "text/plain": [
       "0.9089756528180983"
      ]
     },
     "execution_count": 33,
     "metadata": {},
     "output_type": "execute_result"
    }
   ],
   "source": [
    "Thr = float(ROC_AUC_DF[ROC_AUC_DF.F1 == ROC_AUC_DF.F1.max()]['Threshold'])\n",
    "Thr"
   ]
  },
  {
   "cell_type": "code",
   "execution_count": 34,
   "metadata": {},
   "outputs": [
    {
     "data": {
      "image/png": "[encoded data removed]",
      "text/plain": [
       "<Figure size 720x504 with 1 Axes>"
      ]
     },
     "metadata": {
      "needs_background": "light"
     },
     "output_type": "display_data"
    }
   ],
   "source": [
    "rcParams['figure.figsize'] = 10, 7\n",
    "sns.lineplot(x = \"FPR\", y = \"TPR\",  data = ROC_AUC_DF)\n",
    "plt.show()"
   ]
  },
  {
   "cell_type": "code",
   "execution_count": 35,
   "metadata": {},
   "outputs": [],
   "source": [
    "y_pred_LR = []\n",
    "for i in y_prob:\n",
    "    if i >= Thr:\n",
    "        y_pred_LR.append(1)\n",
    "    else:\n",
    "        y_pred_LR.append(0)"
   ]
  },
  {
   "cell_type": "code",
   "execution_count": 36,
   "metadata": {},
   "outputs": [
    {
     "name": "stdout",
     "output_type": "stream",
     "text": [
      "              precision    recall  f1-score   support\n",
      "\n",
      "           0       0.47      0.82      0.60        55\n",
      "           1       0.95      0.80      0.87       245\n",
      "\n",
      "    accuracy                           0.80       300\n",
      "   macro avg       0.71      0.81      0.73       300\n",
      "weighted avg       0.86      0.80      0.82       300\n",
      "\n"
     ]
    }
   ],
   "source": [
    "print(classification_report(y_test, y_pred_LR))"
   ]
  },
  {
   "cell_type": "code",
   "execution_count": 37,
   "metadata": {},
   "outputs": [
    {
     "data": {
      "text/html": [
       "<div>\n",
       "<style scoped>\n",
       "    .dataframe tbody tr th:only-of-type {\n",
       "        vertical-align: middle;\n",
       "    }\n",
       "\n",
       "    .dataframe tbody tr th {\n",
       "        vertical-align: top;\n",
       "    }\n",
       "\n",
       "    .dataframe thead th {\n",
       "        text-align: right;\n",
       "    }\n",
       "</style>\n",
       "<table border=\"1\" class=\"dataframe\">\n",
       "  <thead>\n",
       "    <tr style=\"text-align: right;\">\n",
       "      <th></th>\n",
       "      <th>Review</th>\n",
       "      <th>Prediction</th>\n",
       "      <th>Test</th>\n",
       "    </tr>\n",
       "  </thead>\n",
       "  <tbody>\n",
       "    <tr>\n",
       "      <td>704</td>\n",
       "      <td>The colors and print are absolutely beautiful and i'm quite heartbroken that this suit just doesn't fit. i don't have a long torso but the v was just so plunging that i wouldn't feel comfortable leaving the backyard lounge chair in this bathing suit. no matter how much i tied the halter it still revealed a v halfway down to my naval. the strange thing is that there seemed to be too much fabric on top, lots of ruching and thicker straps than i would normally go for, and while i'm only around a b</td>\n",
       "      <td>1</td>\n",
       "      <td>0</td>\n",
       "    </tr>\n",
       "    <tr>\n",
       "      <td>285</td>\n",
       "      <td>After missing out on last year's similar dress, i am so glad i finally purchased this one! it is beautiful in person. i bought to wear to a wedding, but i am curious if others think it might be too white? i bought the peach color. i will keep this dress no matter what. hope they come out with more next season!</td>\n",
       "      <td>1</td>\n",
       "      <td>1</td>\n",
       "    </tr>\n",
       "    <tr>\n",
       "      <td>337</td>\n",
       "      <td>I just got this dress in the mail today and it is even better in person! the description didn't give as much information as i wanted so i'm going to be very detailed in this review. i did take off one star for quality because some of the beads are already loose (two fell off when i picked the dress up for the first time), and i'll have to hand sew others on more tightly. my usual size is a pxs or p0, and there were no petite sizes available. however the size 0 fits perfectly, no alterations need</td>\n",
       "      <td>1</td>\n",
       "      <td>1</td>\n",
       "    </tr>\n",
       "    <tr>\n",
       "      <td>442</td>\n",
       "      <td>Nice tee, true red,3/4 sleeves, lacing is a nice touch. good quality and great sale price.</td>\n",
       "      <td>1</td>\n",
       "      <td>1</td>\n",
       "    </tr>\n",
       "    <tr>\n",
       "      <td>390</td>\n",
       "      <td>Ordered this dress online, and i love it! i was looking for an understated but fun new years dress and this was exactly what i was looking for. the only minor qualm i had about the dress was that the velvet dots that hit where the seams met made the dress look puffier than it should some parts around the waist, but for the most part, the dress fit very well and was very flattering, may just need a little bit of ironing. i am 5'9 and usually am more conscious of how things fit around my hips, and</td>\n",
       "      <td>0</td>\n",
       "      <td>1</td>\n",
       "    </tr>\n",
       "    <tr>\n",
       "      <td>...</td>\n",
       "      <td>...</td>\n",
       "      <td>...</td>\n",
       "      <td>...</td>\n",
       "    </tr>\n",
       "    <tr>\n",
       "      <td>707</td>\n",
       "      <td>NaN</td>\n",
       "      <td>1</td>\n",
       "      <td>1</td>\n",
       "    </tr>\n",
       "    <tr>\n",
       "      <td>39</td>\n",
       "      <td>Great casual top with flare. looks cute with grey pilcro stet jeans. flattering with peplum in back. nice cut for shoulders and neckline.</td>\n",
       "      <td>1</td>\n",
       "      <td>1</td>\n",
       "    </tr>\n",
       "    <tr>\n",
       "      <td>861</td>\n",
       "      <td>Can be dressed up or down. the top part is tight, while the bottom has a beautiful skirt. i'm slightly busty and about 5'6\" and the size 6 is perfect for me.</td>\n",
       "      <td>1</td>\n",
       "      <td>1</td>\n",
       "    </tr>\n",
       "    <tr>\n",
       "      <td>267</td>\n",
       "      <td>Love the look and quality of this jacket. i&amp;amp;#39;d say it fits true to size but it is way too short for me (i&amp;amp;#39;m just under 6&amp;amp;#39; tall). wish these came in tall sizes!</td>\n",
       "      <td>1</td>\n",
       "      <td>1</td>\n",
       "    </tr>\n",
       "    <tr>\n",
       "      <td>487</td>\n",
       "      <td>I had to order this blouse since it is named after the town i live in. it does not disappoint. the flowers are so pretty and it has great style. there is a little piece in the neckline so it is not too revealing. the sleeves are loose and cover the bra strap underneath. the back has a little bit of elastic so it does not look like a maternity shirt and it gives you some shape. i can't wait for it to warm up and to wear this!</td>\n",
       "      <td>1</td>\n",
       "      <td>1</td>\n",
       "    </tr>\n",
       "  </tbody>\n",
       "</table>\n",
       "<p>300 rows × 3 columns</p>\n",
       "</div>"
      ],
      "text/plain": [
       "                                                                                                                                                                                                                                                                                                                                                                                                                                                                                                                   Review  \\\n",
       "704  The colors and print are absolutely beautiful and i'm quite heartbroken that this suit just doesn't fit. i don't have a long torso but the v was just so plunging that i wouldn't feel comfortable leaving the backyard lounge chair in this bathing suit. no matter how much i tied the halter it still revealed a v halfway down to my naval. the strange thing is that there seemed to be too much fabric on top, lots of ruching and thicker straps than i would normally go for, and while i'm only around a b    \n",
       "285  After missing out on last year's similar dress, i am so glad i finally purchased this one! it is beautiful in person. i bought to wear to a wedding, but i am curious if others think it might be too white? i bought the peach color. i will keep this dress no matter what. hope they come out with more next season!                                                                                                                                                                                                \n",
       "337  I just got this dress in the mail today and it is even better in person! the description didn't give as much information as i wanted so i'm going to be very detailed in this review. i did take off one star for quality because some of the beads are already loose (two fell off when i picked the dress up for the first time), and i'll have to hand sew others on more tightly. my usual size is a pxs or p0, and there were no petite sizes available. however the size 0 fits perfectly, no alterations need   \n",
       "442  Nice tee, true red,3/4 sleeves, lacing is a nice touch. good quality and great sale price.                                                                                                                                                                                                                                                                                                                                                                                                                             \n",
       "390  Ordered this dress online, and i love it! i was looking for an understated but fun new years dress and this was exactly what i was looking for. the only minor qualm i had about the dress was that the velvet dots that hit where the seams met made the dress look puffier than it should some parts around the waist, but for the most part, the dress fit very well and was very flattering, may just need a little bit of ironing. i am 5'9 and usually am more conscious of how things fit around my hips, and   \n",
       "..                                                                                                                                                                                                                                                                                                                                                                                                                                                                                                                    ...   \n",
       "707  NaN                                                                                                                                                                                                                                                                                                                                                                                                                                                                                                                    \n",
       "39   Great casual top with flare. looks cute with grey pilcro stet jeans. flattering with peplum in back. nice cut for shoulders and neckline.                                                                                                                                                                                                                                                                                                                                                                              \n",
       "861  Can be dressed up or down. the top part is tight, while the bottom has a beautiful skirt. i'm slightly busty and about 5'6\" and the size 6 is perfect for me.                                                                                                                                                                                                                                                                                                                                                          \n",
       "267  Love the look and quality of this jacket. i&amp;#39;d say it fits true to size but it is way too short for me (i&amp;#39;m just under 6&amp;#39; tall). wish these came in tall sizes!                                                                                                                                                                                                                                                                                                                                 \n",
       "487  I had to order this blouse since it is named after the town i live in. it does not disappoint. the flowers are so pretty and it has great style. there is a little piece in the neckline so it is not too revealing. the sleeves are loose and cover the bra strap underneath. the back has a little bit of elastic so it does not look like a maternity shirt and it gives you some shape. i can't wait for it to warm up and to wear this!                                                                           \n",
       "\n",
       "     Prediction  Test  \n",
       "704  1           0     \n",
       "285  1           1     \n",
       "337  1           1     \n",
       "442  1           1     \n",
       "390  0           1     \n",
       "..  ..          ..     \n",
       "707  1           1     \n",
       "39   1           1     \n",
       "861  1           1     \n",
       "267  1           1     \n",
       "487  1           1     \n",
       "\n",
       "[300 rows x 3 columns]"
      ]
     },
     "execution_count": 37,
     "metadata": {},
     "output_type": "execute_result"
    }
   ],
   "source": [
    "from sklearn.model_selection import train_test_split\n",
    "X_tr, X_ts, y_tr, y_ts = train_test_split(data.Reviews, data.Target, stratify = data.Target, test_size = 0.3, random_state = 0)\n",
    "indices = X_ts.index\n",
    "pd.DataFrame({'Review':df['Review Text'][indices], 'Prediction':y_pred_LR, 'Test':y_ts})"
   ]
  },
  {
   "cell_type": "markdown",
   "metadata": {},
   "source": [
    "# SMOTE\n",
    "## Multinomial Naive Bayes"
   ]
  },
  {
   "cell_type": "code",
   "execution_count": 38,
   "metadata": {},
   "outputs": [
    {
     "name": "stdout",
     "output_type": "stream",
     "text": [
      "Statistics for classification are as follows: \n",
      "\n",
      "              precision    recall  f1-score   support\n",
      "\n",
      "           0       0.44      0.73      0.55        55\n",
      "           1       0.93      0.79      0.85       245\n",
      "\n",
      "    accuracy                           0.78       300\n",
      "   macro avg       0.68      0.76      0.70       300\n",
      "weighted avg       0.84      0.78      0.80       300\n",
      "\n",
      "\n",
      "ROC AUC Score 0.7595547309833024\n"
     ]
    }
   ],
   "source": [
    "import imblearn as imb\n",
    "from imblearn.over_sampling import SMOTE\n",
    "SMT = SMOTE()\n",
    "\n",
    "X_t, y_t = SMT.fit_sample(X_train, y_train)\n",
    "\n",
    "MNB = MultinomialNB().fit(X_t, y_t)\n",
    "y_pred_SMOTE = MNB.predict(X_test)\n",
    "\n",
    "print(\"Statistics for classification are as follows: \\n\\n{}\\n\".format(classification_report(y_test, y_pred_SMOTE)))\n",
    "print(\"ROC AUC Score {}\".format(roc_auc_score(y_test, y_pred_SMOTE)))"
   ]
  },
  {
   "cell_type": "markdown",
   "metadata": {},
   "source": [
    "## Logistic Regression"
   ]
  },
  {
   "cell_type": "code",
   "execution_count": 39,
   "metadata": {},
   "outputs": [
    {
     "name": "stderr",
     "output_type": "stream",
     "text": [
      "C:\\Users\\nayak\\AppData\\Roaming\\Python\\Python36\\site-packages\\sklearn\\linear_model\\logistic.py:432: FutureWarning: Default solver will be changed to 'lbfgs' in 0.22. Specify a solver to silence this warning.\n",
      "  FutureWarning)\n"
     ]
    }
   ],
   "source": [
    "from sklearn.linear_model import LogisticRegression\n",
    "from sklearn.metrics import roc_curve\n",
    "\n",
    "clfr = LogisticRegression(C = 100)\n",
    "clfr.fit(X_t, y_t)\n",
    "\n",
    "y_pred_proba = clfr.predict_proba(X_test)\n",
    "y_prob = []\n",
    "for i in y_pred_proba:\n",
    "    y_prob.append(i[1])\n",
    "\n",
    "fpr, tpr, thr = roc_curve(y_test, y_prob, pos_label = 1)"
   ]
  },
  {
   "cell_type": "code",
   "execution_count": 40,
   "metadata": {},
   "outputs": [
    {
     "data": {
      "text/html": [
       "<div>\n",
       "<style scoped>\n",
       "    .dataframe tbody tr th:only-of-type {\n",
       "        vertical-align: middle;\n",
       "    }\n",
       "\n",
       "    .dataframe tbody tr th {\n",
       "        vertical-align: top;\n",
       "    }\n",
       "\n",
       "    .dataframe thead th {\n",
       "        text-align: right;\n",
       "    }\n",
       "</style>\n",
       "<table border=\"1\" class=\"dataframe\">\n",
       "  <thead>\n",
       "    <tr style=\"text-align: right;\">\n",
       "      <th></th>\n",
       "      <th>FPR</th>\n",
       "      <th>TPR</th>\n",
       "      <th>Threshold</th>\n",
       "      <th>F1</th>\n",
       "    </tr>\n",
       "  </thead>\n",
       "  <tbody>\n",
       "    <tr>\n",
       "      <td>0</td>\n",
       "      <td>0.000000</td>\n",
       "      <td>0.000000</td>\n",
       "      <td>1.999977</td>\n",
       "      <td>0.000000</td>\n",
       "    </tr>\n",
       "    <tr>\n",
       "      <td>1</td>\n",
       "      <td>0.000000</td>\n",
       "      <td>0.004082</td>\n",
       "      <td>0.999977</td>\n",
       "      <td>0.008130</td>\n",
       "    </tr>\n",
       "    <tr>\n",
       "      <td>2</td>\n",
       "      <td>0.000000</td>\n",
       "      <td>0.179592</td>\n",
       "      <td>0.998615</td>\n",
       "      <td>0.304498</td>\n",
       "    </tr>\n",
       "    <tr>\n",
       "      <td>3</td>\n",
       "      <td>0.018182</td>\n",
       "      <td>0.179592</td>\n",
       "      <td>0.998594</td>\n",
       "      <td>0.303642</td>\n",
       "    </tr>\n",
       "    <tr>\n",
       "      <td>4</td>\n",
       "      <td>0.018182</td>\n",
       "      <td>0.330612</td>\n",
       "      <td>0.994389</td>\n",
       "      <td>0.494656</td>\n",
       "    </tr>\n",
       "  </tbody>\n",
       "</table>\n",
       "</div>"
      ],
      "text/plain": [
       "        FPR       TPR  Threshold        F1\n",
       "0  0.000000  0.000000  1.999977   0.000000\n",
       "1  0.000000  0.004082  0.999977   0.008130\n",
       "2  0.000000  0.179592  0.998615   0.304498\n",
       "3  0.018182  0.179592  0.998594   0.303642\n",
       "4  0.018182  0.330612  0.994389   0.494656"
      ]
     },
     "execution_count": 40,
     "metadata": {},
     "output_type": "execute_result"
    }
   ],
   "source": [
    "ROC_AUC_DF = pd.DataFrame({'FPR':fpr, 'TPR':tpr, 'Threshold':thr})\n",
    "ROC_AUC_DF['F1'] = 2 * (1 - ROC_AUC_DF.FPR) * ROC_AUC_DF.TPR / (ROC_AUC_DF.TPR + 1 - ROC_AUC_DF.FPR)\n",
    "ROC_AUC_DF.head()"
   ]
  },
  {
   "cell_type": "code",
   "execution_count": 41,
   "metadata": {},
   "outputs": [
    {
     "data": {
      "text/html": [
       "<div>\n",
       "<style scoped>\n",
       "    .dataframe tbody tr th:only-of-type {\n",
       "        vertical-align: middle;\n",
       "    }\n",
       "\n",
       "    .dataframe tbody tr th {\n",
       "        vertical-align: top;\n",
       "    }\n",
       "\n",
       "    .dataframe thead th {\n",
       "        text-align: right;\n",
       "    }\n",
       "</style>\n",
       "<table border=\"1\" class=\"dataframe\">\n",
       "  <thead>\n",
       "    <tr style=\"text-align: right;\">\n",
       "      <th></th>\n",
       "      <th>FPR</th>\n",
       "      <th>TPR</th>\n",
       "      <th>Threshold</th>\n",
       "      <th>F1</th>\n",
       "    </tr>\n",
       "  </thead>\n",
       "  <tbody>\n",
       "    <tr>\n",
       "      <td>18</td>\n",
       "      <td>0.145455</td>\n",
       "      <td>0.742857</td>\n",
       "      <td>0.88165</td>\n",
       "      <td>0.794797</td>\n",
       "    </tr>\n",
       "  </tbody>\n",
       "</table>\n",
       "</div>"
      ],
      "text/plain": [
       "         FPR       TPR  Threshold        F1\n",
       "18  0.145455  0.742857  0.88165    0.794797"
      ]
     },
     "execution_count": 41,
     "metadata": {},
     "output_type": "execute_result"
    }
   ],
   "source": [
    "ROC_AUC_DF[ROC_AUC_DF.F1 == ROC_AUC_DF.F1.max()]"
   ]
  },
  {
   "cell_type": "code",
   "execution_count": 42,
   "metadata": {},
   "outputs": [
    {
     "data": {
      "image/png": "[encoded data removed]",
      "text/plain": [
       "<Figure size 720x504 with 1 Axes>"
      ]
     },
     "metadata": {
      "needs_background": "light"
     },
     "output_type": "display_data"
    }
   ],
   "source": [
    "rcParams['figure.figsize'] = 10, 7\n",
    "sns.lineplot(x = \"FPR\", y = \"TPR\",  data = ROC_AUC_DF)\n",
    "plt.show()"
   ]
  },
  {
   "cell_type": "code",
   "execution_count": 43,
   "metadata": {},
   "outputs": [],
   "source": [
    "y_pred_SMOTE_LR = []\n",
    "for i in y_prob:\n",
    "    if i >= Thr:\n",
    "        y_pred_SMOTE_LR.append(1)\n",
    "    else:\n",
    "        y_pred_SMOTE_LR.append(0)"
   ]
  },
  {
   "cell_type": "code",
   "execution_count": 44,
   "metadata": {},
   "outputs": [
    {
     "name": "stdout",
     "output_type": "stream",
     "text": [
      "              precision    recall  f1-score   support\n",
      "\n",
      "           0       0.40      0.85      0.54        55\n",
      "           1       0.96      0.71      0.81       245\n",
      "\n",
      "    accuracy                           0.74       300\n",
      "   macro avg       0.68      0.78      0.68       300\n",
      "weighted avg       0.85      0.74      0.77       300\n",
      "\n"
     ]
    }
   ],
   "source": [
    "print(classification_report(y_test, y_pred_SMOTE_LR))"
   ]
  },
  {
   "cell_type": "code",
   "execution_count": 45,
   "metadata": {},
   "outputs": [
    {
     "data": {
      "text/html": [
       "<div>\n",
       "<style scoped>\n",
       "    .dataframe tbody tr th:only-of-type {\n",
       "        vertical-align: middle;\n",
       "    }\n",
       "\n",
       "    .dataframe tbody tr th {\n",
       "        vertical-align: top;\n",
       "    }\n",
       "\n",
       "    .dataframe thead th {\n",
       "        text-align: right;\n",
       "    }\n",
       "</style>\n",
       "<table border=\"1\" class=\"dataframe\">\n",
       "  <thead>\n",
       "    <tr style=\"text-align: right;\">\n",
       "      <th></th>\n",
       "      <th>Review</th>\n",
       "      <th>Prediction</th>\n",
       "      <th>Test</th>\n",
       "    </tr>\n",
       "  </thead>\n",
       "  <tbody>\n",
       "    <tr>\n",
       "      <td>704</td>\n",
       "      <td>The colors and print are absolutely beautiful and i'm quite heartbroken that this suit just doesn't fit. i don't have a long torso but the v was just so plunging that i wouldn't feel comfortable leaving the backyard lounge chair in this bathing suit. no matter how much i tied the halter it still revealed a v halfway down to my naval. the strange thing is that there seemed to be too much fabric on top, lots of ruching and thicker straps than i would normally go for, and while i'm only around a b</td>\n",
       "      <td>1</td>\n",
       "      <td>0</td>\n",
       "    </tr>\n",
       "    <tr>\n",
       "      <td>285</td>\n",
       "      <td>After missing out on last year's similar dress, i am so glad i finally purchased this one! it is beautiful in person. i bought to wear to a wedding, but i am curious if others think it might be too white? i bought the peach color. i will keep this dress no matter what. hope they come out with more next season!</td>\n",
       "      <td>1</td>\n",
       "      <td>1</td>\n",
       "    </tr>\n",
       "    <tr>\n",
       "      <td>337</td>\n",
       "      <td>I just got this dress in the mail today and it is even better in person! the description didn't give as much information as i wanted so i'm going to be very detailed in this review. i did take off one star for quality because some of the beads are already loose (two fell off when i picked the dress up for the first time), and i'll have to hand sew others on more tightly. my usual size is a pxs or p0, and there were no petite sizes available. however the size 0 fits perfectly, no alterations need</td>\n",
       "      <td>1</td>\n",
       "      <td>1</td>\n",
       "    </tr>\n",
       "    <tr>\n",
       "      <td>442</td>\n",
       "      <td>Nice tee, true red,3/4 sleeves, lacing is a nice touch. good quality and great sale price.</td>\n",
       "      <td>1</td>\n",
       "      <td>1</td>\n",
       "    </tr>\n",
       "    <tr>\n",
       "      <td>390</td>\n",
       "      <td>Ordered this dress online, and i love it! i was looking for an understated but fun new years dress and this was exactly what i was looking for. the only minor qualm i had about the dress was that the velvet dots that hit where the seams met made the dress look puffier than it should some parts around the waist, but for the most part, the dress fit very well and was very flattering, may just need a little bit of ironing. i am 5'9 and usually am more conscious of how things fit around my hips, and</td>\n",
       "      <td>0</td>\n",
       "      <td>1</td>\n",
       "    </tr>\n",
       "    <tr>\n",
       "      <td>...</td>\n",
       "      <td>...</td>\n",
       "      <td>...</td>\n",
       "      <td>...</td>\n",
       "    </tr>\n",
       "    <tr>\n",
       "      <td>707</td>\n",
       "      <td>NaN</td>\n",
       "      <td>1</td>\n",
       "      <td>1</td>\n",
       "    </tr>\n",
       "    <tr>\n",
       "      <td>39</td>\n",
       "      <td>Great casual top with flare. looks cute with grey pilcro stet jeans. flattering with peplum in back. nice cut for shoulders and neckline.</td>\n",
       "      <td>1</td>\n",
       "      <td>1</td>\n",
       "    </tr>\n",
       "    <tr>\n",
       "      <td>861</td>\n",
       "      <td>Can be dressed up or down. the top part is tight, while the bottom has a beautiful skirt. i'm slightly busty and about 5'6\" and the size 6 is perfect for me.</td>\n",
       "      <td>1</td>\n",
       "      <td>1</td>\n",
       "    </tr>\n",
       "    <tr>\n",
       "      <td>267</td>\n",
       "      <td>Love the look and quality of this jacket. i&amp;amp;#39;d say it fits true to size but it is way too short for me (i&amp;amp;#39;m just under 6&amp;amp;#39; tall). wish these came in tall sizes!</td>\n",
       "      <td>1</td>\n",
       "      <td>1</td>\n",
       "    </tr>\n",
       "    <tr>\n",
       "      <td>487</td>\n",
       "      <td>I had to order this blouse since it is named after the town i live in. it does not disappoint. the flowers are so pretty and it has great style. there is a little piece in the neckline so it is not too revealing. the sleeves are loose and cover the bra strap underneath. the back has a little bit of elastic so it does not look like a maternity shirt and it gives you some shape. i can't wait for it to warm up and to wear this!</td>\n",
       "      <td>1</td>\n",
       "      <td>1</td>\n",
       "    </tr>\n",
       "  </tbody>\n",
       "</table>\n",
       "<p>300 rows × 3 columns</p>\n",
       "</div>"
      ],
      "text/plain": [
       "                                                                                                                                                                                                                                                                                                                                                                                                                                                                                                                   Review  \\\n",
       "704  The colors and print are absolutely beautiful and i'm quite heartbroken that this suit just doesn't fit. i don't have a long torso but the v was just so plunging that i wouldn't feel comfortable leaving the backyard lounge chair in this bathing suit. no matter how much i tied the halter it still revealed a v halfway down to my naval. the strange thing is that there seemed to be too much fabric on top, lots of ruching and thicker straps than i would normally go for, and while i'm only around a b    \n",
       "285  After missing out on last year's similar dress, i am so glad i finally purchased this one! it is beautiful in person. i bought to wear to a wedding, but i am curious if others think it might be too white? i bought the peach color. i will keep this dress no matter what. hope they come out with more next season!                                                                                                                                                                                                \n",
       "337  I just got this dress in the mail today and it is even better in person! the description didn't give as much information as i wanted so i'm going to be very detailed in this review. i did take off one star for quality because some of the beads are already loose (two fell off when i picked the dress up for the first time), and i'll have to hand sew others on more tightly. my usual size is a pxs or p0, and there were no petite sizes available. however the size 0 fits perfectly, no alterations need   \n",
       "442  Nice tee, true red,3/4 sleeves, lacing is a nice touch. good quality and great sale price.                                                                                                                                                                                                                                                                                                                                                                                                                             \n",
       "390  Ordered this dress online, and i love it! i was looking for an understated but fun new years dress and this was exactly what i was looking for. the only minor qualm i had about the dress was that the velvet dots that hit where the seams met made the dress look puffier than it should some parts around the waist, but for the most part, the dress fit very well and was very flattering, may just need a little bit of ironing. i am 5'9 and usually am more conscious of how things fit around my hips, and   \n",
       "..                                                                                                                                                                                                                                                                                                                                                                                                                                                                                                                    ...   \n",
       "707  NaN                                                                                                                                                                                                                                                                                                                                                                                                                                                                                                                    \n",
       "39   Great casual top with flare. looks cute with grey pilcro stet jeans. flattering with peplum in back. nice cut for shoulders and neckline.                                                                                                                                                                                                                                                                                                                                                                              \n",
       "861  Can be dressed up or down. the top part is tight, while the bottom has a beautiful skirt. i'm slightly busty and about 5'6\" and the size 6 is perfect for me.                                                                                                                                                                                                                                                                                                                                                          \n",
       "267  Love the look and quality of this jacket. i&amp;#39;d say it fits true to size but it is way too short for me (i&amp;#39;m just under 6&amp;#39; tall). wish these came in tall sizes!                                                                                                                                                                                                                                                                                                                                 \n",
       "487  I had to order this blouse since it is named after the town i live in. it does not disappoint. the flowers are so pretty and it has great style. there is a little piece in the neckline so it is not too revealing. the sleeves are loose and cover the bra strap underneath. the back has a little bit of elastic so it does not look like a maternity shirt and it gives you some shape. i can't wait for it to warm up and to wear this!                                                                           \n",
       "\n",
       "     Prediction  Test  \n",
       "704  1           0     \n",
       "285  1           1     \n",
       "337  1           1     \n",
       "442  1           1     \n",
       "390  0           1     \n",
       "..  ..          ..     \n",
       "707  1           1     \n",
       "39   1           1     \n",
       "861  1           1     \n",
       "267  1           1     \n",
       "487  1           1     \n",
       "\n",
       "[300 rows x 3 columns]"
      ]
     },
     "execution_count": 45,
     "metadata": {},
     "output_type": "execute_result"
    }
   ],
   "source": [
    "from sklearn.model_selection import train_test_split\n",
    "X_tr, X_ts, y_tr, y_ts = train_test_split(data.Reviews, data.Target, stratify = data.Target, test_size = 0.3, random_state = 0)\n",
    "indices = X_ts.index\n",
    "pd.DataFrame({'Review':df['Review Text'][indices], 'Prediction':y_pred_LR, 'Test':y_ts})"
   ]
  },
  {
   "cell_type": "code",
   "execution_count": null,
   "metadata": {},
   "outputs": [],
   "source": []
  }
 ],
 "metadata": {
  "kernelspec": {
   "display_name": "Python 3",
   "language": "python",
   "name": "python3"
  },
  "language_info": {
   "codemirror_mode": {
    "name": "ipython",
    "version": 3
   },
   "file_extension": ".py",
   "mimetype": "text/x-python",
   "name": "python",
   "nbconvert_exporter": "python",
   "pygments_lexer": "ipython3",
   "version": "3.7.1"
  },
  "latex_envs": {
   "LaTeX_envs_menu_present": true,
   "autoclose": false,
   "autocomplete": true,
   "bibliofile": "biblio.bib",
   "cite_by": "apalike",
   "current_citInitial": 1,
   "eqLabelWithNumbers": true,
   "eqNumInitial": 1,
   "hotkeys": {
    "equation": "Ctrl-E",
    "itemize": "Ctrl-I"
   },
   "labels_anchors": false,
   "latex_user_defs": false,
   "report_style_numbering": false,
   "user_envs_cfg": false
  },
  "toc": {
   "base_numbering": 1,
   "nav_menu": {},
   "number_sections": true,
   "sideBar": true,
   "skip_h1_title": false,
   "title_cell": "Table of Contents",
   "title_sidebar": "Contents",
   "toc_cell": false,
   "toc_position": {
    "height": "calc(100% - 180px)",
    "left": "10px",
    "top": "150px",
    "width": "165px"
   },
   "toc_section_display": true,
   "toc_window_display": true
  }
 },
 "nbformat": 4,
 "nbformat_minor": 2
}
